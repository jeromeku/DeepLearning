{
 "metadata": {
  "name": "",
  "signature": "sha256:64f0768646bcb12242b27e22618388ceb70d348a765e4c148666016081e68062"
 },
 "nbformat": 3,
 "nbformat_minor": 0,
 "worksheets": [
  {
   "cells": [
    {
     "cell_type": "code",
     "collapsed": false,
     "input": [
      "import matplotlib as mpl\n",
      "import matplotlib.pyplot as plt\n",
      "import numpy as np\n",
      "import seaborn as sns\n",
      "%matplotlib inline\n",
      "\n",
      "#Theano\n",
      "import theano\n",
      "import theano.tensor as T\n",
      "from theano import function,shared\n",
      "from theano.tensor.shared_randomstreams import RandomStreams\n",
      "\n",
      "import gzip, cPickle, time"
     ],
     "language": "python",
     "metadata": {},
     "outputs": [],
     "prompt_number": 3
    },
    {
     "cell_type": "markdown",
     "metadata": {},
     "source": [
      "##Image Viewer"
     ]
    },
    {
     "cell_type": "code",
     "collapsed": false,
     "input": [
      "from scipy import misc"
     ],
     "language": "python",
     "metadata": {},
     "outputs": [],
     "prompt_number": 51
    },
    {
     "cell_type": "code",
     "collapsed": false,
     "input": [
      "l = misc.lena()\n",
      "plt.imshow(l,cmap=plt.cm.gray)"
     ],
     "language": "python",
     "metadata": {},
     "outputs": [],
     "prompt_number": 52
    },
    {
     "cell_type": "code",
     "collapsed": false,
     "input": [
      "import gzip\n",
      "import cPickle\n",
      "\n",
      "f = gzip.open('DeepLearningTutorials/mnist.pkl.gz','rb')\n",
      "train_set,valid_set,test_set = cPickle.load(f)\n",
      "f.close()"
     ],
     "language": "python",
     "metadata": {},
     "outputs": [],
     "prompt_number": 67
    },
    {
     "cell_type": "code",
     "collapsed": false,
     "input": [
      "X = train_set[0]\n",
      "y = train_set[1]"
     ],
     "language": "python",
     "metadata": {},
     "outputs": [],
     "prompt_number": 77
    },
    {
     "cell_type": "code",
     "collapsed": false,
     "input": [
      "xim = X[0].reshape((28,28))"
     ],
     "language": "python",
     "metadata": {},
     "outputs": [],
     "prompt_number": 85
    },
    {
     "cell_type": "code",
     "collapsed": false,
     "input": [
      "plt.imshow(xim,cmap=plt.cm.gray)"
     ],
     "language": "python",
     "metadata": {},
     "outputs": [
      {
       "metadata": {},
       "output_type": "pyout",
       "prompt_number": 87,
       "text": [
        "<matplotlib.image.AxesImage at 0x1101a93d0>"
       ]
      },
      {
       "metadata": {},
       "output_type": "display_data",
       "png": "[encoded data removed]",
       "text": [
        "<matplotlib.figure.Figure at 0x110145850>"
       ]
      }
     ],
     "prompt_number": 87
    },
    {
     "cell_type": "markdown",
     "metadata": {},
     "source": [
      "##Logistic Regression"
     ]
    },
    {
     "cell_type": "code",
     "collapsed": false,
     "input": [
      "def load_data(dataset):\n",
      "    ''' Loads the dataset\n",
      "\n",
      "    :type dataset: string\n",
      "    :param dataset: the path to the dataset (here MNIST)\n",
      "    '''\n",
      "    print '... loading data'\n",
      "\n",
      "    # Load the dataset\n",
      "    f = gzip.open(dataset, 'rb')\n",
      "    train_set, valid_set, test_set = cPickle.load(f)\n",
      "    f.close()\n",
      "    #train_set, valid_set, test_set format: tuple(input, target)\n",
      "    #input is an numpy.ndarray of 2 dimensions (a matrix)\n",
      "    #witch row's correspond to an example. target is a\n",
      "    #numpy.ndarray of 1 dimensions (vector)) that have the same length as\n",
      "    #the number of rows in the input. It should give the target\n",
      "    #target to the example with the same index in the input.\n",
      "\n",
      "    def shared_dataset(data_xy, borrow=True):\n",
      "        \"\"\" Function that loads the dataset into shared variables\n",
      "\n",
      "        The reason we store our dataset in shared variables is to allow\n",
      "        Theano to copy it into the GPU memory (when code is run on GPU).\n",
      "        Since copying data into the GPU is slow, copying a minibatch everytime\n",
      "        is needed (the default behaviour if the data is not in a shared\n",
      "        variable) would lead to a large decrease in performance.\n",
      "        \"\"\"\n",
      "        data_x, data_y = data_xy\n",
      "        shared_x = theano.shared(numpy.asarray(data_x,\n",
      "                                               dtype=theano.config.floatX),\n",
      "                                 borrow=borrow)\n",
      "        shared_y = theano.shared(numpy.asarray(data_y,\n",
      "                                               dtype=theano.config.floatX),\n",
      "                                 borrow=borrow)\n",
      "        # When storing data on the GPU it has to be stored as floats\n",
      "        # therefore we will store the labels as ``floatX`` as well\n",
      "        # (``shared_y`` does exactly that). But during our computations\n",
      "        # we need them as ints (we use labels as index, and if they are\n",
      "        # floats it doesn't make sense) therefore instead of returning\n",
      "        # ``shared_y`` we will have to cast it to int. This little hack\n",
      "        # lets ous get around this issue\n",
      "        return shared_x, T.cast(shared_y, 'int32')\n",
      "\n",
      "    test_set_x, test_set_y = shared_dataset(test_set)\n",
      "    valid_set_x, valid_set_y = shared_dataset(valid_set)\n",
      "    train_set_x, train_set_y = shared_dataset(train_set)\n",
      "\n",
      "    rval = [(train_set_x, train_set_y), (valid_set_x, valid_set_y),\n",
      "            (test_set_x, test_set_y)]\n",
      "    return rval\n",
      "\n"
     ],
     "language": "python",
     "metadata": {},
     "outputs": []
    },
    {
     "cell_type": "code",
     "collapsed": false,
     "input": [
      "dataset = 'DeepLearningTutorials/mnist.pkl.gz'\n",
      "f = gzip.open(dataset,'rb')\n",
      "train_set,valid_set,test_set = cPickle.load(f)\n",
      "f.close()"
     ],
     "language": "python",
     "metadata": {},
     "outputs": [],
     "prompt_number": 4
    },
    {
     "cell_type": "markdown",
     "metadata": {},
     "source": [
      ">50,000 training instances, 784 (28 x 28) dimensions\n",
      ">10,000 validation instances\n",
      ">10,000 test instances\n",
      ">10 classes: 0 - 9"
     ]
    },
    {
     "cell_type": "markdown",
     "metadata": {},
     "source": [
      "##Exploratory Data Analysis"
     ]
    },
    {
     "cell_type": "markdown",
     "metadata": {},
     "source": [
      "###Class Distributions"
     ]
    },
    {
     "cell_type": "code",
     "collapsed": false,
     "input": [
      "fig, ax = subplots(1,3)\n",
      "fig.tight_layout()\n",
      "fig.set_size_inches(10,4)\n",
      "titles = ['train','valid','test']\n",
      "bins = range(11)\n",
      "fig.suptitle('Class Distributions',fontsize=14,y=1.1)\n",
      "for i,class_count in enumerate([train_set[1],valid_set[1],test_set[1]]):\n",
      "    ax[i].hist(class_count,bins=bins,align='left')\n",
      "    ax[i].set_title(titles[i])\n",
      "    ax[i].set_xticks(bins[:-1])\n",
      "    ax[i].set_xlim([-1,10])"
     ],
     "language": "python",
     "metadata": {},
     "outputs": [
      {
       "metadata": {},
       "output_type": "display_data",
       "png": "[encoded data removed]",
       "text": [
        "<matplotlib.figure.Figure at 0x107dc2dd0>"
       ]
      }
     ],
     "prompt_number": 41
    },
    {
     "cell_type": "markdown",
     "metadata": {},
     "source": [
      "###Sample Images from Training,Validation, and Test Sets"
     ]
    },
    {
     "cell_type": "code",
     "collapsed": false,
     "input": [
      "class RandomImageGenerator(object):\n",
      "    \"\"\"Convenience class for sampling random images from training, validation, and test sets.\n",
      "    \"\"\"\n",
      "    titles = ['train','valid','test']\n",
      "    \n",
      "    def __drawRandom(self,size):\n",
      "        return np.random.randint(size)\n",
      "    \n",
      "    def __call__(self):\n",
      "        fig, ax = subplots(1,3)\n",
      "        fig.tight_layout()\n",
      "        fig.set_size_inches(10,4)\n",
      "\n",
      "        for i,images in enumerate([train_set[0],valid_set[0],test_set[0]]):\n",
      "            sample = self.__drawRandom(size=images.shape[0])\n",
      "            image = images[sample].reshape((28,28))\n",
      "            ax[i].imshow(image,cmap=plt.cm.gray)\n",
      "            ax[i].set_title(self.titles[i])\n"
     ],
     "language": "python",
     "metadata": {},
     "outputs": [],
     "prompt_number": 115
    },
    {
     "cell_type": "code",
     "collapsed": false,
     "input": [
      "g = RandomImageGenerator()"
     ],
     "language": "python",
     "metadata": {},
     "outputs": [],
     "prompt_number": 116
    },
    {
     "cell_type": "code",
     "collapsed": false,
     "input": [
      "g()"
     ],
     "language": "python",
     "metadata": {},
     "outputs": [
      {
       "metadata": {},
       "output_type": "display_data",
       "png": "[encoded data removed]",
       "text": [
        "<matplotlib.figure.Figure at 0x107f54e90>"
       ]
      }
     ],
     "prompt_number": 118
    },
    {
     "cell_type": "markdown",
     "metadata": {},
     "source": [
      "##Data Loading"
     ]
    },
    {
     "cell_type": "code",
     "collapsed": false,
     "input": [
      "dataset = 'DeepLearningTutorials/mnist.pkl.gz'\n",
      "f = gzip.open(dataset,'rb')\n",
      "train_set,valid_set,test_set = cPickle.load(f)\n",
      "f.close()"
     ],
     "language": "python",
     "metadata": {},
     "outputs": []
    },
    {
     "cell_type": "code",
     "collapsed": false,
     "input": [
      "data_x,data_y = train_set"
     ],
     "language": "python",
     "metadata": {},
     "outputs": [],
     "prompt_number": 119
    },
    {
     "cell_type": "code",
     "collapsed": false,
     "input": [
      "shared_x = shared(np.asarray(data_x,dtype=theano.config.floatX),borrow=True)"
     ],
     "language": "python",
     "metadata": {},
     "outputs": [],
     "prompt_number": 125
    },
    {
     "cell_type": "code",
     "collapsed": false,
     "input": [
      "data_path = 'DeepLearningTutorials/mnist.pkl.gz'\n",
      "\n",
      "class DataLoader(object):\n",
      "    def __init__(self,data_path):\n",
      "        self.data_path = data_path\n",
      "    \n",
      "    def _load_raw_data(self):\n",
      "        print '... loading data'\n",
      "        # Load the dataset\n",
      "        f = gzip.open(self.data_path, 'rb')\n",
      "        train_set, valid_set, test_set = cPickle.load(f)\n",
      "        f.close()\n",
      "        return train_set,valid_set,test_set\n",
      "\n",
      "    def __createShared(self,data,dtype,borrow):\n",
      "        return theano.shared(np.asarray(data,dtype=dtype),borrow=borrow)\n",
      "\n",
      "    def _shared_dataset(self,data_xy,borrow=True):\n",
      "        data_x,data_y = data_xy\n",
      "        shared_x = self.__createShared(data_x,dtype=theano.config.floatX,borrow=borrow)\n",
      "        shared_y = self.__createShared(data_y,dtype=theano.config.floatX,borrow=borrow)\n",
      "        return shared_x,T.cast(shared_y,'int32')\n",
      "\n",
      "    def load_data(self):\n",
      "        train_set,valid_set,test_set = self._load_raw_data()\n",
      "        print 'Training set dim: {} x {}'.format(train_set[0].shape[0],train_set[0].shape[1])\n",
      "        print 'Valid set dim: {} x {}'.format(valid_set[0].shape[0],valid_set[0].shape[1])\n",
      "        print 'Test set dim: {} x {}'.format(test_set[0].shape[0],test_set[0].shape[1])\n",
      "\n",
      "        test_set_x, test_set_y = self._shared_dataset(test_set)\n",
      "        valid_set_x, valid_set_y = self._shared_dataset(valid_set)\n",
      "        train_set_x, train_set_y = self._shared_dataset(train_set)\n",
      "\n",
      "        return {'Train': (train_set_x,train_set_y),'Validation':(valid_set_x,valid_set_y),\\\n",
      "                'Test': (test_set_x,test_set_y)}"
     ],
     "language": "python",
     "metadata": {},
     "outputs": [],
     "prompt_number": 4
    },
    {
     "cell_type": "code",
     "collapsed": false,
     "input": [
      "loader = DataLoader(data_path)"
     ],
     "language": "python",
     "metadata": {},
     "outputs": [],
     "prompt_number": 155
    },
    {
     "cell_type": "code",
     "collapsed": false,
     "input": [
      "data = loader.load_data()"
     ],
     "language": "python",
     "metadata": {},
     "outputs": [
      {
       "output_type": "stream",
       "stream": "stdout",
       "text": [
        "... loading data\n",
        "Training set dim: 50000 x 784"
       ]
      },
      {
       "output_type": "stream",
       "stream": "stdout",
       "text": [
        "\n",
        "Valid set dim: 10000 x 784\n",
        "Test set dim: 10000 x 784\n"
       ]
      }
     ],
     "prompt_number": 156
    },
    {
     "cell_type": "markdown",
     "metadata": {},
     "source": [
      "##Logistic Regression Model"
     ]
    },
    {
     "cell_type": "code",
     "collapsed": false,
     "input": [
      "class LogisticRegression(object):\n",
      "    \n",
      "    def __init__(self,data_in,n_in,n_out):\n",
      "        self.W = shared(value=np.zeros((n_in,n_out),dtype=theano.config.floatX),name='W')\n",
      "        self.b = shared(value=np.zeros((n_out,),dtype=theano.config.floatX),name='b')\n",
      "\n",
      "        #Likelihood\n",
      "        self.p_y_given_x = T.nnet.softmax(T.dot(data_in,self.W)+self.b)\n",
      "    \n",
      "        #Predicted class\n",
      "        self.y_pred = T.argmax(self.p_y_given_x,axis=1)\n",
      "    \n",
      "    def negative_log_likelihood(self,y):\n",
      "        row_index = T.arange(y.shape[0])\n",
      "        log_likelihood = T.log(self.p_y_given_x)[row_index,y]\n",
      "        return -T.mean(log_likelihood)\n",
      "    \n",
      "    def errors(self,y):\n",
      "         # check if y has same dimension of y_pred\n",
      "        if y.ndim != self.y_pred.ndim:\n",
      "            raise TypeError('y should have the same shape as self.y_pred',\n",
      "                ('y', target.type, 'y_pred', self.y_pred.type))\n",
      "        # check if y is of the correct datatype\n",
      "        if y.dtype.startswith('int'):\n",
      "            # the T.neq operator returns a vector of 0s and 1s, where 1\n",
      "            # represents a mistake in prediction\n",
      "            return T.mean(T.neq(self.y_pred, y))\n",
      "        else:\n",
      "            raise NotImplementedError()\n",
      "            \n",
      "            "
     ],
     "language": "python",
     "metadata": {},
     "outputs": [],
     "prompt_number": 5
    },
    {
     "cell_type": "markdown",
     "metadata": {},
     "source": [
      "##SGD Methods"
     ]
    },
    {
     "cell_type": "code",
     "collapsed": false,
     "input": [
      "def sgd_optimization(learning_rate=.13,n_epochs=1000,dataset='mnist.pkl.gz',batch_size=600):\n",
      "    #Load and Prep Data\n",
      "    datasets = DataLoader(data_path).load_data()\n",
      "    train_set_x,train_set_y = datasets['Train']\n",
      "    test_set_x,test_set_y = datasets['Test']\n",
      "    valid_set_x,valid_set_y = datasets['Validation']\n",
      "    \n",
      "    n_train_batches = train_set_x.get_value(borrow=True).shape[0] / batch_size\n",
      "    n_test_batches = test_set_x.get_value(borrow=True).shape[0] / batch_size\n",
      "    n_valid_batches = valid_set_x.get_value(borrow=True).shape[0] / batch_size\n",
      "\n",
      "    #Build Models\n",
      "    index = T.lscalar()\n",
      "    x = T.matrix('x')\n",
      "    y = T.ivector('y')\n",
      "\n",
      "    data_feature_dim = train_set_x.get_value(borrow=True).shape[1]\n",
      "\n",
      "    classifier = LogisticRegression(data_in=x,n_in=data_feature_dim,n_out=10)\n",
      "    cost = classifier.negative_log_likelihood(y)\n",
      "\n",
      "    test_model = function(inputs=[index],outputs=classifier.errors(y),givens={x: test_set_x[index*batch_size:(index+1)*batch_size],\\\n",
      "                                                                              y: test_set_y[index*batch_size:(index+1)*batch_size]})\n",
      "\n",
      "    valid_model = function(inputs=[index],outputs=classifier.errors(y),givens={x: valid_set_x[index*batch_size:(index+1)*batch_size],\\\n",
      "                                                                               y: valid_set_y[index*batch_size:(index+1)*batch_size]})\n",
      "\n",
      "    g_W = T.grad(cost=cost,wrt=classifier.W)\n",
      "    g_b = T.grad(cost=cost,wrt=classifier.b)\n",
      "\n",
      "    updates = [(classifier.W,classifier.W - learning_rate*g_W),(classifier.b,classifier.b - learning_rate*g_b)]\n",
      "\n",
      "    train_model = function(inputs=[index],outputs=cost,updates=updates,givens={ x: train_set_x[index*batch_size:(index+1)*batch_size],\\\n",
      "                                                                                y: train_set_y[index*batch_size:(index+1)*batch_size]})\n",
      "    \n",
      "    #Training Loop\n",
      "    print \"-- Training Model -- \"\n",
      "\n",
      "    ##Early Stopping Criteria\n",
      "    patience = 5000 #patience is in units of mini-batches \n",
      "    patience_increase = 2\n",
      "    improvement_threshold = .995\n",
      "    validation_frequency = min(n_train_batches,patience/2)\n",
      "\n",
      "    best_params = None\n",
      "    best_validation_loss = np.inf\n",
      "    test_score = 0.\n",
      "    start_time = time.clock()\n",
      "\n",
      "    done_looping = False\n",
      "    epoch = 0\n",
      "    while(epoch < n_epochs) and (not done_looping):\n",
      "        epoch += 1\n",
      "        for minibatch_index in xrange(n_train_batches):\n",
      "            avg_cost = train_model(minibatch_index)\n",
      "\n",
      "            num_iter = (epoch - 1)*n_train_batches + minibatch_index\n",
      "\n",
      "\n",
      "            if((num_iter+1) % validation_frequency == 0):\n",
      "                #Score Model on Validation Set\n",
      "                validation_losses = [validate_model(i) for i in xrange(n_valid_batches)]\n",
      "                current_validation_loss = np.mean(validation_losses)\n",
      "\n",
      "                print('epoch %i, minibatch %i/%i, validation error %f %%' % \\\n",
      "                        (epoch, minibatch_index + 1, n_train_batches,\n",
      "                        current_validation_loss * 100.))\n",
      "                if current_validation_loss < best_validation_loss:\n",
      "                    if (current_validation_loss < best_validation_loss * improvement_threshold):\n",
      "                        patience = max(patience,num_iter*patience_increase)\n",
      "\n",
      "                    best_validation_loss = current_validation_loss\n",
      "\n",
      "                    #Score Model on Test Set\n",
      "                    test_losses = [test_model(i) for i in xrange(n_test_batches)]\n",
      "                    test_score = np.mean(test_losses)\n",
      "\n",
      "                    print(('     epoch %i, minibatch %i/%i, test error of best'\n",
      "                           ' model %f %%') %\n",
      "                            (epoch, minibatch_index + 1, n_train_batches,\n",
      "                             test_score * 100.))\n",
      "            if patience <= num_iter:\n",
      "                done_looping = True\n",
      "                break\n",
      "\n",
      "    end_time = time.clock()\n",
      "    print(('Optimization complete with best validation score of %f %%,'\n",
      "           'with test performance %f %%') %\n",
      "                 (best_validation_loss * 100., test_score * 100.))\n",
      "    print 'The code run for %d epochs, with %f epochs/sec' % (\n",
      "        epoch, 1. * epoch / (end_time - start_time))\n",
      "    print >> sys.stderr, ('The code for file ' +\n",
      "                          os.path.split(__file__)[1] +\n",
      "                          ' ran for %.1fs' % ((end_time - start_time)))\n"
     ],
     "language": "python",
     "metadata": {},
     "outputs": []
    },
    {
     "cell_type": "code",
     "collapsed": false,
     "input": [
      "datasets = DataLoader(data_path).load_data()"
     ],
     "language": "python",
     "metadata": {},
     "outputs": [
      {
       "output_type": "stream",
       "stream": "stdout",
       "text": [
        "... loading data\n",
        "Training set dim: 50000 x 784"
       ]
      },
      {
       "output_type": "stream",
       "stream": "stdout",
       "text": [
        "\n",
        "Valid set dim: 10000 x 784\n",
        "Test set dim: 10000 x 784\n"
       ]
      }
     ],
     "prompt_number": 6
    },
    {
     "cell_type": "code",
     "collapsed": false,
     "input": [
      "train_set_x,train_set_y = datasets['Train']\n",
      "test_set_x,test_set_y = datasets['Test']\n",
      "valid_set_x,valid_set_y = datasets['Validation']"
     ],
     "language": "python",
     "metadata": {},
     "outputs": [],
     "prompt_number": 7
    },
    {
     "cell_type": "code",
     "collapsed": false,
     "input": [
      "batch_size = 600\n",
      "learning_rate = .13\n",
      "n_train_batches = train_set_x.get_value(borrow=True).shape[0] / batch_size\n",
      "n_test_batches = test_set_x.get_value(borrow=True).shape[0] / batch_size\n",
      "n_valid_batches = valid_set_x.get_value(borrow=True).shape[0] / batch_size\n"
     ],
     "language": "python",
     "metadata": {},
     "outputs": [],
     "prompt_number": 8
    },
    {
     "cell_type": "code",
     "collapsed": false,
     "input": [
      "#Set up models\n",
      "print \"-- Building Models --\"\n",
      "index = T.lscalar()\n",
      "x = T.matrix('x')\n",
      "y = T.ivector('y')\n",
      "\n",
      "data_feature_dim = train_set_x.get_value(borrow=True).shape[1]\n",
      "\n",
      "classifier = LogisticRegression(data_in=x,n_in=data_feature_dim,n_out=10)\n",
      "cost = classifier.negative_log_likelihood(y)\n",
      "\n",
      "test_model = function(inputs=[index],outputs=classifier.errors(y),givens={x: test_set_x[index*batch_size:(index+1)*batch_size],\\\n",
      "                                                                          y: test_set_y[index*batch_size:(index+1)*batch_size]})\n",
      "\n",
      "valid_model = function(inputs=[index],outputs=classifier.errors(y),givens={x: valid_set_x[index*batch_size:(index+1)*batch_size],\\\n",
      "                                                                           y: valid_set_y[index*batch_size:(index+1)*batch_size]})\n",
      "\n",
      "g_W = T.grad(cost=cost,wrt=classifier.W)\n",
      "g_b = T.grad(cost=cost,wrt=classifier.b)\n",
      "\n",
      "updates = [(classifier.W,classifier.W - learning_rate*g_W),(classifier.b,classifier.b - learning_rate*g_b)]\n",
      "\n",
      "train_model = function(inputs=[index],outputs=cost,updates=updates,givens={ x: train_set_x[index*batch_size:(index+1)*batch_size],\\\n",
      "                                                                            y: train_set_y[index*batch_size:(index+1)*batch_size]})\n"
     ],
     "language": "python",
     "metadata": {},
     "outputs": [
      {
       "output_type": "stream",
       "stream": "stdout",
       "text": [
        "-- Building Models --\n"
       ]
      }
     ],
     "prompt_number": 11
    },
    {
     "cell_type": "code",
     "collapsed": false,
     "input": [
      "import logging\n",
      "log_file = \"sgd_test.log\"\n",
      "logger = logging.getLogger('Theano Tests')\n",
      "logger.setLevel(logging.INFO)\n",
      "hdlr = logging.FileHandler(os.path.join('tests',log_file))\n",
      "formatter = logging.Formatter('%(asctime)s %(levelname)s %(message)s')\n",
      "hdlr.setFormatter(formatter)\n",
      "logger.addHandler(hdlr) \n"
     ],
     "language": "python",
     "metadata": {},
     "outputs": [],
     "prompt_number": 20
    },
    {
     "cell_type": "code",
     "collapsed": false,
     "input": [
      "#Training loop\n",
      "\n",
      "print \"-- Training Model -- \"\n",
      "\n",
      "##Early Stopping Criteria\n",
      "#patience is in units of mini-batches \n",
      "\n",
      "n_epochs = 500\n",
      "patience = 5000\n",
      "patience_increase = 2\n",
      "improvement_threshold = .995\n",
      "validation_frequency = min(n_train_batches,patience/2)\n",
      "\n",
      "best_params = None\n",
      "best_validation_loss = np.inf\n",
      "test_score = 0.\n",
      "start_time = time.clock()\n",
      "\n",
      "done_looping = False\n",
      "epoch = 0\n",
      "while(epoch < n_epochs) and (not done_looping):\n",
      "    epoch += 1\n",
      "    for minibatch_index in xrange(n_train_batches):\n",
      "        avg_cost = train_model(minibatch_index)\n",
      "        \n",
      "        num_iter = (epoch - 1)*n_train_batches + minibatch_index\n",
      "        \n",
      "\n",
      "        if((num_iter+1) % validation_frequency == 0):\n",
      "            #Score Model on Validation Set\n",
      "            validation_losses = [valid_model(i) for i in xrange(n_valid_batches)]\n",
      "            current_validation_loss = np.mean(validation_losses)\n",
      "            \n",
      "            logging.info('epoch %i, minibatch %i/%i, validation error %f %%' % \\\n",
      "                    (epoch, minibatch_index + 1, n_train_batches,\n",
      "                    current_validation_loss * 100.))\n",
      "            if current_validation_loss < best_validation_loss:\n",
      "                if (current_validation_loss < best_validation_loss * improvement_threshold):\n",
      "                    patience = max(patience,num_iter*patience_increase)\n",
      "                \n",
      "                best_validation_loss = current_validation_loss\n",
      "                \n",
      "                #Score Model on Test Set\n",
      "                test_losses = [test_model(i) for i in xrange(n_test_batches)]\n",
      "                test_score = np.mean(test_losses)\n",
      "                \n",
      "                logging.info(('     epoch %i, minibatch %i/%i, test error of best'\n",
      "                       ' model %f %%') %\n",
      "                        (epoch, minibatch_index + 1, n_train_batches,\n",
      "                         test_score * 100.))\n",
      "        if patience <= num_iter:\n",
      "            done_looping = True\n",
      "            break\n",
      "end_time = time.clock()\n",
      "print(('Optimization complete with best validation score of %f %%,'\n",
      "       'with test performance %f %%') %\n",
      "             (best_validation_loss * 100., test_score * 100.))\n",
      "print 'The code run for %d epochs, with %f epochs/sec' % (epoch, 1. * epoch / (end_time - start_time))\n",
      "print 'The code ran for %.1fs' % ((end_time - start_time))\n"
     ],
     "language": "python",
     "metadata": {},
     "outputs": [
      {
       "output_type": "stream",
       "stream": "stdout",
       "text": [
        "-- Training Model -- \n",
        "Optimization complete with best validation score of 7.010417 %,with test performance 7.229167 %"
       ]
      },
      {
       "output_type": "stream",
       "stream": "stdout",
       "text": [
        "\n",
        "The code run for 61 epochs, with 3.926655 epochs/sec\n",
        "The code ran for 15.5s\n"
       ]
      }
     ],
     "prompt_number": 19
    },
    {
     "cell_type": "markdown",
     "metadata": {},
     "source": [
      "##REFERENCE"
     ]
    },
    {
     "cell_type": "code",
     "collapsed": false,
     "input": [
      "from IPython.display import IFrame\n",
      "IFrame('http://deeplearning.net/software/theano/tutorial/aliasing.html#borrowing-when-creating-shared-variables',width='100%',height=350)"
     ],
     "language": "python",
     "metadata": {},
     "outputs": [
      {
       "html": [
        "\n",
        "        <iframe\n",
        "            width=\"100%\"\n",
        "            height=350\"\n",
        "            src=\"http://deeplearning.net/software/theano/tutorial/aliasing.html#borrowing-when-creating-shared-variables\"\n",
        "            frameborder=\"0\"\n",
        "            allowfullscreen\n",
        "        ></iframe>\n",
        "        "
       ],
       "metadata": {},
       "output_type": "pyout",
       "prompt_number": 124,
       "text": [
        "<IPython.lib.display.IFrame at 0x107b5b910>"
       ]
      }
     ],
     "prompt_number": 124
    },
    {
     "cell_type": "code",
     "collapsed": false,
     "input": [
      "x = 0\n",
      "x+=1"
     ],
     "language": "python",
     "metadata": {},
     "outputs": [],
     "prompt_number": 1
    },
    {
     "cell_type": "code",
     "collapsed": false,
     "input": [],
     "language": "python",
     "metadata": {},
     "outputs": []
    }
   ],
   "metadata": {}
  }
 ]
}